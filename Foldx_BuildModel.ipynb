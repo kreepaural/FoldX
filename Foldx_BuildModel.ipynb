{
 "cells": [
  {
   "cell_type": "code",
   "execution_count": null,
   "id": "4922a1be-39d5-48ed-a4a2-cabc543b757a",
   "metadata": {},
   "outputs": [],
   "source": [
    "##Запуск PepairPDB\n",
    "\n",
    "import subprocess\n",
    "import os\n",
    "import pandas as pd\n",
    "\n",
    "# Путь до рабочей папки\n",
    "wsl_path = ''\n",
    "\n",
    "cmd = f\"cd '{wsl_path}' && foldx --command=RepairPDB --pdb=SM_homology_AF_myh7_model_GN_HIS.pdb\"\n",
    "subprocess.run([\"wsl\", \"bash\", \"-c\", cmd], capture_output=True, text=True)"
   ]
  },
  {
   "cell_type": "code",
   "execution_count": 1,
   "id": "6356a349-219f-494f-a762-83b0fa006368",
   "metadata": {},
   "outputs": [
    {
     "name": "stdout",
     "output_type": "stream",
     "text": [
      "['K1919N']\n"
     ]
    }
   ],
   "source": [
    "#Перевод списка мутации из формата ClinVar идентификатора в формат принимаемый FoldX-ом\n",
    "\n",
    "variants = \"\"\"\n",
    "NM_000257.4(MYH7):c.5757G>C (p.Lys1919Asn)\n",
    "\"\"\"\n",
    "import re\n",
    "\n",
    "mutant_list = re.findall(r'\\(p\\.([A-Za-z]+[0-9]+[A-Za-z]+)\\)', variants)\n",
    "\n",
    "\n",
    "aa_dict = {\n",
    "    'Ala': 'A', 'Arg': 'R', 'Asn': 'N', 'Asp': 'D',\n",
    "    'Cys': 'C', 'Gln': 'Q', 'Glu': 'E', 'Gly': 'G',\n",
    "    'His': 'H', 'Ile': 'I', 'Leu': 'L', 'Lys': 'K',\n",
    "    'Met': 'M', 'Phe': 'F', 'Pro': 'P', 'Ser': 'S',\n",
    "    'Thr': 'T', 'Trp': 'W', 'Tyr': 'Y', 'Val': 'V'\n",
    "}\n",
    "\n",
    "mutations = []\n",
    "\n",
    "for i in mutant_list:\n",
    "    for aa_3, aa_1 in aa_dict.items():\n",
    "        i = i.replace(aa_3, aa_1)\n",
    "    mutations.append(i)\n",
    "\n",
    "print(mutations)"
   ]
  },
  {
   "cell_type": "code",
   "execution_count": 2,
   "id": "c8a21437-111e-44e4-bad2-6d9a1915a487",
   "metadata": {},
   "outputs": [],
   "source": [
    "# Формирование фацлов individual_list\n",
    "\n",
    "import os\n",
    "\n",
    "output_dir = r'' #Путь к папке для сохранения файлов \n",
    "\n",
    "########## Для цепи А\n",
    "\n",
    "for mut in mutations:\n",
    "    original_aa = mut[0]\n",
    "    pos = mut[1:-1]\n",
    "    new_aa = mut[-1]\n",
    "\n",
    "    line = f\"{original_aa}A{pos}{new_aa};\\n\"\n",
    "\n",
    "    filename = f\"individual_list_A_{mut}.txt\"\n",
    "    filepath = os.path.join(output_dir, filename)\n",
    "\n",
    "    with open(filepath, 'w', encoding='ascii', newline='\\n') as f:\n",
    "        f.write(line)\n",
    "\n",
    "########## Для цепи B\n",
    "for mut in mutations:\n",
    "    original_aa = mut[0]\n",
    "    pos = mut[1:-1]\n",
    "    new_aa = mut[-1]\n",
    "\n",
    "    line = f\"{original_aa}B{pos}{new_aa};\\n\"\n",
    "\n",
    "    filename = f\"individual_list_B_{mut}.txt\"\n",
    "    filepath = os.path.join(output_dir, filename)\n",
    "\n",
    "    with open(filepath, 'w', encoding='ascii', newline='\\n') as f:\n",
    "        f.write(line)"
   ]
  },
  {
   "cell_type": "code",
   "execution_count": 3,
   "id": "78b5bfdf-872a-46d8-8f89-0ca1686fb233",
   "metadata": {},
   "outputs": [
    {
     "name": "stdout",
     "output_type": "stream",
     "text": [
      "Запуск BuildModel для мутации K1919N, цепь A\n",
      "Результат не получен для мутации K1919N, цепь A\n",
      "----------------------------------------\n",
      "Запуск BuildModel для мутации K1919N, цепь B\n",
      "Результат не получен для мутации K1919N, цепь B\n",
      "----------------------------------------\n"
     ]
    }
   ],
   "source": [
    "import subprocess\n",
    "import os\n",
    "import pandas as pd\n",
    "\n",
    "# Пути до рабочей папки\n",
    "windows_path = r'' \n",
    "wsl_path = ''\n",
    "\n",
    "mutation_files = [f for f in os.listdir(windows_path) if f.startswith(\"individual_list_\") and f.endswith(\".txt\")]\n",
    "results_dict = {}\n",
    "\n",
    "for mut_file in mutation_files:\n",
    "    parts = mut_file[:-4].split('_') \n",
    "    chain = parts[2] \n",
    "    mut_name = parts[3]  \n",
    "\n",
    "    print(f\"Запуск BuildModel для мутации {mut_name}, цепь {chain}\")\n",
    "\n",
    "    # PDB файл используемый в команде (SM_homology_AF_myh7_model_GN_HIS_Repair.pdb) лежит в репозитории\n",
    "    cmd = f\"cd '{wsl_path}' && foldx --command=BuildModel --pdb=SM_homology_AF_myh7_model_GN_HIS_Repair.pdb --mutant-file={mut_file}\"\n",
    "    \n",
    "    result = subprocess.run([\"wsl\", \"bash\", \"-c\", cmd], capture_output=True, text=True)\n",
    "\n",
    "    dif_file_path = os.path.join(windows_path, 'Dif_SM_homology_AF_myh7_model_GN_HIS_Repair.fxout')\n",
    "\n",
    "    ddg = None\n",
    "    if os.path.exists(dif_file_path):\n",
    "        with open(dif_file_path, 'r') as f:\n",
    "            lines = f.readlines()\n",
    "            for line in lines:\n",
    "                if line.startswith('SM_homology_AF_myh7_model_GN_HIS_Repair_1.pdb'):\n",
    "                    ddg = float(line.strip().split('\\t')[1])\n",
    "                    print(f\"ddG для {mut_name}, цепь {chain}: {ddg}\")\n",
    "                    break\n",
    "        os.remove(dif_file_path) #Для каждой новой мутации файл перезаписывается\n",
    "    else:\n",
    "        print(f\"Результат не получен для мутации {mut_name}, цепь {chain}\")\n",
    "        \n",
    "    if mut_name not in results_dict:\n",
    "        results_dict[mut_name] = {'mutation': mut_name}\n",
    "\n",
    "    results_dict[mut_name][f'ddG_BuildModel.{chain}'] = ddg\n",
    "\n",
    "    print('-' * 40)\n",
    "\n",
    "df = pd.DataFrame(results_dict.values())"
   ]
  },
  {
   "cell_type": "code",
   "execution_count": null,
   "id": "2862d25a-66fe-4325-a364-c37d9d07235b",
   "metadata": {},
   "outputs": [],
   "source": [
    "#Скачивание таблицы \n",
    "\n",
    "df_sorted = df.copy()\n",
    "df_sorted[\"mutation_numeric\"] = df_sorted[\"mutation\"].str.extract(r'(\\d+)').astype(int)\n",
    "df_sorted = df_sorted.sort_values(\"mutation_numeric\", ascending=False).drop(columns=\"mutation_numeric\")\n",
    "\n",
    "file_path = r\" ##Путь до папки \\benign_foldx.csv\"\n",
    "df_sorted.to_csv(file_path, index=False)"
   ]
  }
 ],
 "metadata": {
  "kernelspec": {
   "display_name": "Python 3 (ipykernel)",
   "language": "python",
   "name": "python3"
  },
  "language_info": {
   "codemirror_mode": {
    "name": "ipython",
    "version": 3
   },
   "file_extension": ".py",
   "mimetype": "text/x-python",
   "name": "python",
   "nbconvert_exporter": "python",
   "pygments_lexer": "ipython3",
   "version": "3.12.3"
  }
 },
 "nbformat": 4,
 "nbformat_minor": 5
}
